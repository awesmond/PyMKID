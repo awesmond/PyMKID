{
 "cells": [
  {
   "cell_type": "markdown",
   "metadata": {},
   "source": [
    "By: Alvaro Loya Villalpando (aloyavil@caltech.edu)\n",
    "\n",
    "Last revised: September 15, 2020"
   ]
  },
  {
   "cell_type": "markdown",
   "metadata": {},
   "source": [
    "Note: To rsync data: rsync -avzhe ssh dmkidaq@131.215.193.26:/home/dmkidaq/usrp_data/200828 usrp_data"
   ]
  },
  {
   "cell_type": "code",
   "execution_count": 1,
   "metadata": {},
   "outputs": [],
   "source": [
    "import usrp_correlated_noise_removal as ucnr\n",
    "import imp #use imp.reload(ucnr) to reload module after editing"
   ]
  },
  {
   "cell_type": "markdown",
   "metadata": {},
   "source": [
    "### various datasets (choose one)"
   ]
  },
  {
   "cell_type": "code",
   "execution_count": 2,
   "metadata": {},
   "outputs": [],
   "source": [
    "data = 'USRP_Noise_20200828_114833.h5'\n",
    "\n",
    "#----- 8 tone data: bandwidth of USRP + resonance tones data-------\n",
    "\n",
    "# 'USRP_Noise_20200828_114833.h5' #res tones new - get multiple blobs for a single tone???\n",
    "\n",
    "# 'USRP_Noise_20200828_115521.h5' #3060_3095  [0-7]\n",
    "\n",
    "# 'USRP_Noise_20200828_115646.h5', #3020_3055 [8-15]\n",
    "\n",
    "# 'USRP_Noise_20200828_115132.h5' #3105_3140  [16-23]\n",
    "\n",
    "# 'USRP_Noise_20200828_115319.h5' #3145-3180  [24-31] \n",
    "\n",
    "#----- 2 tone data-------\n",
    "#'USRP_Noise_20200903_150511.h5' #minor beating, no shark tooth\n",
    "\n",
    "#'USRP_Noise_20200903_151311.h5' #major beating, sharp shark tooth"
   ]
  },
  {
   "cell_type": "markdown",
   "metadata": {},
   "source": [
    "### load data"
   ]
  },
  {
   "cell_type": "code",
   "execution_count": 3,
   "metadata": {},
   "outputs": [
    {
     "name": "stdout",
     "output_type": "stream",
     "text": [
      "\n",
      "\n",
      "Data taken 20200828_114833\n",
      "Reported LO is 3100.0 MHz\n",
      "Reported rate is 200.000000 MHz\n",
      "Reported decimation is 40\n",
      "\tEffective rate is 5000.000000 kHz\n",
      "Reported amplitudes are [0.11885022 0.11885022 0.11885022 0.11885022 0.11885022 0.11885022\n",
      " 0.11885022 0.11885022]\n",
      "\tPowers are [-29.5 -29.5 -29.5 -29.5 -29.5 -29.5 -29.5 -29.5] dBm\n",
      "Tones are [3134. 3139. 3143. 3148. 3153. 3160. 3165. 3169.] MHz\n"
     ]
    }
   ],
   "source": [
    "data_freqs, data_noise, time_correction_undecimated = ucnr.unavg_noi(data,verbose=True)"
   ]
  },
  {
   "cell_type": "markdown",
   "metadata": {},
   "source": [
    "### select a subset of the data (if you want)"
   ]
  },
  {
   "cell_type": "code",
   "execution_count": 4,
   "metadata": {},
   "outputs": [],
   "source": [
    "data_noise = ucnr.reduced_data(data_noise,start=0,end=len(data_noise))"
   ]
  },
  {
   "cell_type": "markdown",
   "metadata": {},
   "source": [
    "### calculate amplitude and arc length"
   ]
  },
  {
   "cell_type": "code",
   "execution_count": 5,
   "metadata": {},
   "outputs": [],
   "source": [
    "coh_data_1, coh_data_2 = ucnr.calc_mag_phase(data_noise)"
   ]
  },
  {
   "cell_type": "markdown",
   "metadata": {},
   "source": [
    "### further decimate amplitude and arc length data"
   ]
  },
  {
   "cell_type": "code",
   "execution_count": 6,
   "metadata": {},
   "outputs": [
    {
     "name": "stdout",
     "output_type": "stream",
     "text": [
      "Creation of the directory /Users/alvaro/Desktop/Caltech/group/analysis/usrp_noise_correlation/dec_vs_undec failed, it may already exist\n",
      "CPU times: user 24.3 s, sys: 3.86 s, total: 28.1 s\n",
      "Wall time: 28.4 s\n"
     ]
    }
   ],
   "source": [
    "%%time\n",
    "#for no further decimation, set dec to 1\n",
    "dec = 500 #set secimation to 500\n",
    "coh_data_1_decimated, coh_data_2_decimated, time_correction_decimated= ucnr.further_decimation(decimation=dec,coh_data_1=coh_data_1,coh_data_2=coh_data_2,\n",
    "                                                               time_correction_undecimated=time_correction_undecimated,plot=True,data=data)"
   ]
  },
  {
   "cell_type": "markdown",
   "metadata": {},
   "source": [
    "### compute frequency spectrum"
   ]
  },
  {
   "cell_type": "code",
   "execution_count": 7,
   "metadata": {},
   "outputs": [],
   "source": [
    "J_freqs = ucnr.compute_spectrum(coh_data_1,coh_data_1_decimated,time_correction_undecimated,time_correction_decimated,decimated_spectrum=False,avg=33)"
   ]
  },
  {
   "cell_type": "markdown",
   "metadata": {},
   "source": [
    "### noise removal"
   ]
  },
  {
   "cell_type": "code",
   "execution_count": 8,
   "metadata": {
    "scrolled": false
   },
   "outputs": [
    {
     "name": "stdout",
     "output_type": "stream",
     "text": [
      "working on tone 0, time is 2020-09-15 14:58:36.530761\n",
      "working on magnitude 2020-09-15 14:58:36.530889\n",
      "working on phase 2020-09-15 14:58:37.232992\n",
      "working on tone 1, time is 2020-09-15 14:58:38.544453\n",
      "working on magnitude 2020-09-15 14:58:38.544572\n",
      "working on phase 2020-09-15 14:58:39.383701\n",
      "working on tone 2, time is 2020-09-15 14:58:40.097245\n",
      "working on magnitude 2020-09-15 14:58:40.097412\n",
      "working on phase 2020-09-15 14:58:40.771111\n",
      "working on tone 3, time is 2020-09-15 14:58:41.446034\n",
      "working on magnitude 2020-09-15 14:58:41.446193\n",
      "working on phase 2020-09-15 14:58:42.103169\n",
      "working on tone 4, time is 2020-09-15 14:58:42.753214\n",
      "working on magnitude 2020-09-15 14:58:42.753376\n",
      "working on phase 2020-09-15 14:58:43.451001\n",
      "working on tone 5, time is 2020-09-15 14:58:44.115497\n",
      "working on magnitude 2020-09-15 14:58:44.115661\n",
      "working on phase 2020-09-15 14:58:44.758976\n",
      "working on tone 6, time is 2020-09-15 14:58:45.382767\n",
      "working on magnitude 2020-09-15 14:58:45.382934\n",
      "working on phase 2020-09-15 14:58:46.111979\n",
      "working on tone 7, time is 2020-09-15 14:58:46.943364\n",
      "working on magnitude 2020-09-15 14:58:46.943540\n",
      "working on phase 2020-09-15 14:58:47.594920\n",
      "CPU times: user 7.35 s, sys: 3.05 s, total: 10.4 s\n",
      "Wall time: 11.8 s\n"
     ]
    }
   ],
   "source": [
    "%%time\n",
    "data_freqs,coeff1,coeff2,coh_data_1_dirty,coh_data_2_dirty,coh_data_1_clean,coh_data_2_clean=ucnr.noise_removal(coh_data_1=coh_data_1,coh_data_2=coh_data_2, coh_data_1_decimated=coh_data_1_decimated,\n",
    "                  coh_data_2_decimated=coh_data_2_decimated,decimation=dec,data_freqs=data_freqs,decimated_data=False,ommitted_vals=[],plot=False,data=data)"
   ]
  },
  {
   "cell_type": "markdown",
   "metadata": {},
   "source": [
    "### calculate PSDs"
   ]
  },
  {
   "cell_type": "code",
   "execution_count": 9,
   "metadata": {},
   "outputs": [],
   "source": [
    "psd_amp_dirty, psd_phase_dirty = ucnr.psd_calc(data_freqs=data_freqs,coh_data_1=coh_data_1_dirty,coh_data_2=coh_data_2_dirty,time_correction=time_correction_undecimated,avg_num=33,print_progress=False)"
   ]
  },
  {
   "cell_type": "code",
   "execution_count": 10,
   "metadata": {},
   "outputs": [],
   "source": [
    "psd_amp_clean, psd_phase_clean = ucnr.psd_calc(data_freqs=data_freqs,coh_data_1=coh_data_1_clean,coh_data_2=coh_data_2_clean,time_correction=time_correction_undecimated,avg_num=33,print_progress=False)"
   ]
  },
  {
   "cell_type": "code",
   "execution_count": 11,
   "metadata": {},
   "outputs": [],
   "source": [
    "ucnr.psd_plot(data_freqs=data_freqs,J_freqs=J_freqs,PSD_avg_1=psd_amp_dirty,PSD_avg_2=psd_phase_dirty,PSD_avg_1_clean=psd_amp_clean,PSD_avg_2_clean=psd_phase_clean,data=data)"
   ]
  },
  {
   "cell_type": "markdown",
   "metadata": {},
   "source": [
    "### restore clean data back to raw timestreams and add to h5 file"
   ]
  },
  {
   "cell_type": "code",
   "execution_count": 28,
   "metadata": {},
   "outputs": [
    {
     "name": "stdout",
     "output_type": "stream",
     "text": [
      "cleaned_data already exists! If you set override=False, nothing will happen.\n",
      "saving clean_data to USRP_Noise_20200828_114833.h5!\n"
     ]
    }
   ],
   "source": [
    "ucnr.save_clean_timestreams(h5_file=data,data_raw=data_noise,cd1=coh_data_1_dirty,cd2=coh_data_2_dirty,cd1_clean=coh_data_1_clean,cd2_clean=coh_data_2_clean,coeff1=coeff1,coeff2=coeff2,override=True)"
   ]
  }
 ],
 "metadata": {
  "kernelspec": {
   "display_name": "Python 3",
   "language": "python",
   "name": "python3"
  },
  "language_info": {
   "codemirror_mode": {
    "name": "ipython",
    "version": 3
   },
   "file_extension": ".py",
   "mimetype": "text/x-python",
   "name": "python",
   "nbconvert_exporter": "python",
   "pygments_lexer": "ipython3",
   "version": "3.8.3"
  }
 },
 "nbformat": 4,
 "nbformat_minor": 2
}
